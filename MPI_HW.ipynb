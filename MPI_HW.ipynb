{
  "nbformat": 4,
  "nbformat_minor": 0,
  "metadata": {
    "colab": {
      "name": "MPI_HW.ipynb",
      "provenance": [],
      "collapsed_sections": [],
      "toc_visible": true,
      "authorship_tag": "ABX9TyMva2VqN47xZsVNnzB3xlkv",
      "include_colab_link": true
    },
    "kernelspec": {
      "name": "python3",
      "display_name": "Python 3"
    },
    "language_info": {
      "name": "python"
    }
  },
  "cells": [
    {
      "cell_type": "markdown",
      "metadata": {
        "id": "view-in-github",
        "colab_type": "text"
      },
      "source": [
        "<a href=\"https://colab.research.google.com/github/Nina-Konovalova/HCP_skoltech/blob/main/MPI_HW.ipynb\" target=\"_parent\"><img src=\"https://colab.research.google.com/assets/colab-badge.svg\" alt=\"Open In Colab\"/></a>"
      ]
    },
    {
      "cell_type": "markdown",
      "metadata": {
        "id": "L1srQMT5D8kW"
      },
      "source": [
        "## Task 1.1\n",
        "\n",
        "Let's imagine that processes are human beings and they wanted to play ping-pong to get acquainted with each other. Processor 0 starts the play. It randomly passes a ball to 'i' and says its name.\n",
        "\n",
        "Processor 'i' passes a ball to another guy 'j' saying all previous names in the mentioned order and says its own name. Passing occurs randomly; it means only processor 'i' knows who will be next, others don't know and they always need to be on the lookout. The game ends after N passes. Use the synchronous mode MPI_Ssend to send the data. (5 points)"
      ]
    },
    {
      "cell_type": "code",
      "metadata": {
        "colab": {
          "base_uri": "https://localhost:8080/"
        },
        "id": "6zn8rvoIYhjf",
        "outputId": "58093118-5e40-4fe5-9d0c-2955d1431e5a"
      },
      "source": [
        "%%writefile Ping_Pong.cpp\n",
        "\n",
        "#include <mpi.h>\n",
        "#include \"mpi.h\"\n",
        "#include <stdio.h>\n",
        "#include <stdlib.h>\n",
        "#include <vector>\n",
        "#include <iostream>\n",
        "#include <cmath>\n",
        "#include <string>\n",
        "\n",
        "using namespace std;\n",
        "\n",
        "\n",
        "void arrray(vector<int> &b,const int &N){\n",
        "   for (int i = 0; i < N; i++) {\n",
        "           b.push_back(i);\n",
        "   }\n",
        "}\n",
        "\n",
        "\n",
        "\n",
        "int random_index(int aray_size, unsigned int &seed){\n",
        "   int elem = rand_r(&seed) % aray_size;\n",
        "   return elem;\n",
        "}\n",
        "\n",
        "void creating_mess(vector<int> &b, vector<int> &pass_mess, int &elem) {\n",
        "    // choosing random element from array\n",
        "   unsigned int seed = 0;\n",
        "   pass_mess.push_back(b[elem]);\n",
        "   b.erase(b.begin() + elem);\n",
        "}\n",
        "\n",
        "void printing(vector<int> &vec, string &name) {\n",
        "    cout << name << endl;\n",
        "    for (int i = 0; i < vec.size(); i++) {\n",
        "            printf(\"%d \", vec[i]);\n",
        "    }\n",
        "    printf(\"\\n\");\n",
        "}\n",
        "int main(int argc, char ** argv) {\n",
        "    int world_rank;\n",
        "    int world_size;\n",
        "    MPI_Status status;\n",
        "    int ierr;\n",
        "    \n",
        "    double start, end, last;\n",
        "\n",
        "    MPI_Init(&argc, &argv);\n",
        "    MPI_Comm_rank(MPI_COMM_WORLD, &world_rank);\n",
        "    MPI_Comm_size(MPI_COMM_WORLD, &world_size);\n",
        "    \n",
        "    start = MPI_Wtime();\n",
        "    \n",
        "   int N = world_size;\n",
        "   unsigned int seed = 0;\n",
        "   vector<int> b;\n",
        "   vector<int> message;\n",
        "   vector<vector<int>> message1(N);\n",
        "\n",
        "   string a;\n",
        "   arrray(b,N);\n",
        "   \n",
        "   unsigned int aray_size = b.size();\n",
        "\n",
        "   int sender, reciver;\n",
        "   sender = random_index(aray_size, seed);\n",
        "   aray_size = b.size();\n",
        "   creating_mess(b, message, sender);\n",
        "\n",
        "  int i = 1;\n",
        "  while (b.size() > 0) {\n",
        "     aray_size = b.size();\n",
        "     reciver = random_index(aray_size, seed);\n",
        "     \n",
        "     if (world_rank == sender){\n",
        "\n",
        "       MPI_Ssend(&message[0], message.size(), MPI_INT, b[reciver], 12, MPI_COMM_WORLD);\n",
        "      // cout << \"Process \" << sender << \" Send message to process \" << b[reciver] << endl; \n",
        "\n",
        "     } else if (world_rank == b[reciver]) {\n",
        "       message1[b[reciver]].resize(message.size());\n",
        "       MPI_Recv(&message1[b[reciver]][0], message.size(), MPI_INT, sender, 12, MPI_COMM_WORLD, &status);\n",
        "       \n",
        "     }\n",
        "\n",
        "   creating_mess(b, message, reciver);\n",
        "   sender = message[message.size()-1];\n",
        "   i += 1;\n",
        "   }\n",
        "   //printf(\"Hello! size %d rank %d\\n\", world_size, world_rank);\n",
        "   //a = \"Message\";\n",
        "   //printing(message1[world_rank],a);\n",
        "   end = MPI_Wtime();\n",
        "   last = end - start;\n",
        "   cout << last << endl;\n",
        "   MPI_Finalize();\n",
        "   return 0;\n",
        "}                              \n"
      ],
      "execution_count": null,
      "outputs": [
        {
          "output_type": "stream",
          "text": [
            "Overwriting Ping_Pong.cpp\n"
          ],
          "name": "stdout"
        }
      ]
    },
    {
      "cell_type": "code",
      "metadata": {
        "id": "iRUCzOp9d9Ve"
      },
      "source": [
        "!mpic++ Ping_Pong.cpp -o out"
      ],
      "execution_count": null,
      "outputs": []
    },
    {
      "cell_type": "code",
      "metadata": {
        "colab": {
          "base_uri": "https://localhost:8080/"
        },
        "id": "sXQSzHxIhPLI",
        "outputId": "6c68d513-bbc0-4c60-c51a-f4e4a67baf49"
      },
      "source": [
        "\n",
        "!mpirun --allow-run-as-root -n 5 ./out"
      ],
      "execution_count": null,
      "outputs": [
        {
          "output_type": "stream",
          "text": [
            "0.00220014\n",
            "0.00131558\n",
            "0.00230276\n",
            "0.000669212\n",
            "0.00058473\n"
          ],
          "name": "stdout"
        }
      ]
    },
    {
      "cell_type": "markdown",
      "metadata": {
        "id": "BIGKUd8-EJ5u"
      },
      "source": [
        "## Task 1.2\n",
        "\n",
        "Then slightly modify the program. Now the processes just send the data with fixed length instead of sending all the previous names. Insert timing calls to measure the time taken by all the communications. You will need to time many ping-pong iterations to get a reasonable elapsed time, especially for small message lengths.\n",
        "\n",
        "- Investigate how the time taken varies with the size of the message. You should fill in your results in the table from the presentation in Lecture 5 (3 points)\n",
        "\n",
        "- Plot a graph of time against message size to determine the latency (i.e. the time taken for a message of zero length); plot a graph of the bandwidth to see how it varies with message size. (3 points)"
      ]
    },
    {
      "cell_type": "code",
      "metadata": {
        "id": "1V0VJ9kYERcW",
        "colab": {
          "base_uri": "https://localhost:8080/"
        },
        "outputId": "99c99b2c-63ae-4c38-9d58-4b210570267c"
      },
      "source": [
        "%%writefile Ping_Pong.cpp\n",
        "\n",
        "#include <mpi.h>\n",
        "#include \"mpi.h\"\n",
        "#include <stdio.h>\n",
        "#include <stdlib.h>\n",
        "#include <vector>\n",
        "#include <iostream>\n",
        "#include <cmath>\n",
        "#include <string>\n",
        "#include <fstream>\n",
        "\n",
        "using namespace std;\n",
        "\n",
        "\n",
        "void arrray(vector<int> &b,const int &N){\n",
        "   for (int i = 0; i < N; i++) {\n",
        "           b.push_back(i);\n",
        "   }\n",
        "}\n",
        "\n",
        "\n",
        "\n",
        "int random_index(int aray_size, unsigned int &seed){\n",
        "   int elem = rand_r(&seed) % aray_size;\n",
        "   return elem;\n",
        "}\n",
        "\n",
        "void creating_mess(vector<int> &b, vector<int> &pass_mess, int &elem, int &i) {\n",
        "    // choosing random element from array\n",
        "   unsigned int seed = 0;\n",
        "   pass_mess[i] = (b[elem]);\n",
        "  // b.erase(b.begin() + elem);\n",
        "}\n",
        "\n",
        "void printing(vector<int> &vec, string &name) {\n",
        "    cout << name << endl;\n",
        "    for (int i = 0; i < vec.size(); i++) {\n",
        "            printf(\"%d \", vec[i]);\n",
        "    }\n",
        "    printf(\"\\n\");\n",
        "}\n",
        "int main(int argc, char ** argv) {\n",
        "    int world_rank;\n",
        "    int world_size;\n",
        "    MPI_Status status;\n",
        "    int ierr;\n",
        "\n",
        "    //FILE *res;\n",
        "    //res = fopen(\"./results1.txt\", \"a\");\n",
        "    ofstream res;          // поток для записи\n",
        "    res.open(\"./results.txt\");\n",
        "\n",
        "    double start, end, last;\n",
        "\n",
        "    MPI_Init(&argc, &argv);\n",
        "    MPI_Comm_rank(MPI_COMM_WORLD, &world_rank);\n",
        "    MPI_Comm_size(MPI_COMM_WORLD, &world_size);\n",
        "    \n",
        "    start = MPI_Wtime();\n",
        "   // num of itterations \n",
        "   int N = 20;\n",
        "   \n",
        "   // size of sent message\n",
        "   int sizze = 10000000;\n",
        "\n",
        "   unsigned int seed = 0;\n",
        "\n",
        "   // vector of processed\n",
        "   vector<int> b;\n",
        "   arrray(b,world_size);\n",
        "   unsigned int aray_size = b.size();\n",
        "\n",
        "   // vector of message\n",
        "   vector<int> message(sizze);\n",
        "   vector<vector<int>> message1(N);\n",
        "\n",
        "   string a;\n",
        "\n",
        "\n",
        "   int sender, reciver;\n",
        "   sender = random_index(aray_size, seed);\n",
        "   aray_size = b.size();\n",
        "\n",
        "   int m = 0;\n",
        "   creating_mess(b, message, sender,m);\n",
        "\n",
        "  for (m = 0; m < N; m++) {\n",
        "  //while (b.size() > 0) {\n",
        "     aray_size = b.size();\n",
        "     do {\n",
        "        reciver = random_index(aray_size, seed);\n",
        "        //cout << reciver << ' ' << sender << endl;\n",
        "     } while (reciver == sender);\n",
        "     \n",
        "     if (world_rank == sender){\n",
        "\n",
        "       MPI_Ssend(&message[0], message.size(), MPI_INT, b[reciver], 12, MPI_COMM_WORLD);\n",
        "      \n",
        "\n",
        "     } else if (world_rank == b[reciver]) {\n",
        "       message1[b[reciver]].resize(sizze);\n",
        "       MPI_Recv(&message1[b[reciver]][0], message.size(), MPI_INT, sender, 12, MPI_COMM_WORLD, &status);\n",
        "       \n",
        "     }\n",
        "\n",
        "   creating_mess(b, message, reciver, m);\n",
        "   sender = message[m];\n",
        "   \n",
        "   }\n",
        "   //printf(\"Hello! size %d rank %d\\n\", world_size, world_rank);\n",
        "   //a = \"Message\";\n",
        "   //printing(message1[world_rank],a);\n",
        "   end = MPI_Wtime();\n",
        "   int arr_size = sizeof(std::vector<int>) + (sizeof(int) * sizze);//(int)sizeof(buffer[0])*steps;\n",
        "   last = end - start;\n",
        "   double mess_time = last/N;\n",
        "   //printf(\"Size of message: %d\\t Iterations: %d\\t Total time:%f\\t Message time:%f\\t Bandwidth:%f\\n\", arr_size, N, last, mess_time , arr_size/mess_time);\n",
        "   cout << arr_size << \"\\t\" << N << \"\\t\" << last << \"\\t\" << mess_time << \"\\t\" << arr_size/mess_time << endl;\n",
        "   //fclose(res);\n",
        "   res.close();\n",
        "   MPI_Finalize();\n",
        "   return 0;\n",
        "}                              \n"
      ],
      "execution_count": 130,
      "outputs": [
        {
          "output_type": "stream",
          "text": [
            "Overwriting Ping_Pong.cpp\n"
          ],
          "name": "stdout"
        }
      ]
    },
    {
      "cell_type": "code",
      "metadata": {
        "id": "9U4JMDFzG--V"
      },
      "source": [
        "!mpic++ Ping_Pong.cpp -o out"
      ],
      "execution_count": 131,
      "outputs": []
    },
    {
      "cell_type": "code",
      "metadata": {
        "colab": {
          "base_uri": "https://localhost:8080/"
        },
        "id": "LsvP9XeBHz-W",
        "outputId": "185f94b8-4bed-4bd7-e87a-61eeb8c453eb"
      },
      "source": [
        "!mpirun --allow-run-as-root -n 5 ./out"
      ],
      "execution_count": 132,
      "outputs": [
        {
          "output_type": "stream",
          "text": [
            "40000024\t20\t2.00793\t0.100397\t3.9842e+08\n",
            "40000024\t20\t2.03957\t0.101978\t3.9224e+08\n",
            "40000024\t20\t2.1182\t0.10591\t3.77679e+08\n",
            "40000024\t20\t2.14527\t0.107264\t3.72913e+08\n",
            "40000024\t20\t2.14543\t0.107272\t3.72885e+08\n"
          ],
          "name": "stdout"
        }
      ]
    },
    {
      "cell_type": "markdown",
      "metadata": {
        "id": "8aLV27uiH8j9"
      },
      "source": [
        "#### Reading textfile"
      ]
    },
    {
      "cell_type": "markdown",
      "metadata": {
        "id": "yD9dIb6N4QSx"
      },
      "source": [
        "![image.png](data:image/png;base64,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)"
      ]
    },
    {
      "cell_type": "code",
      "metadata": {
        "id": "8REr4CqDJosQ"
      },
      "source": [
        "import numpy as np\n",
        "import pandas as pd\n",
        "\n",
        "with open(\"./results.txt\") as file:\n",
        "    df = pd.DataFrame(np.genfromtxt(file, delimiter=None, names = ['size', 'iterations','Total_time', 'Time per mess', 'Bandwidth']\n",
        "                                  )\n",
        "                    )"
      ],
      "execution_count": 134,
      "outputs": []
    },
    {
      "cell_type": "code",
      "metadata": {
        "colab": {
          "base_uri": "https://localhost:8080/",
          "height": 483
        },
        "id": "z_aJ3OKsJgGt",
        "outputId": "f2a0669b-142d-41f7-eedd-2d351b3999ed"
      },
      "source": [
        "dat_grouped = df.groupby(\"size\").mean()\n",
        "dat_grouped['sizze'] = dat_grouped.index\n",
        "dat_grouped"
      ],
      "execution_count": 135,
      "outputs": [
        {
          "output_type": "execute_result",
          "data": {
            "text/html": [
              "<div>\n",
              "<style scoped>\n",
              "    .dataframe tbody tr th:only-of-type {\n",
              "        vertical-align: middle;\n",
              "    }\n",
              "\n",
              "    .dataframe tbody tr th {\n",
              "        vertical-align: top;\n",
              "    }\n",
              "\n",
              "    .dataframe thead th {\n",
              "        text-align: right;\n",
              "    }\n",
              "</style>\n",
              "<table border=\"1\" class=\"dataframe\">\n",
              "  <thead>\n",
              "    <tr style=\"text-align: right;\">\n",
              "      <th></th>\n",
              "      <th>iterations</th>\n",
              "      <th>Total_time</th>\n",
              "      <th>Time_per_mess</th>\n",
              "      <th>Bandwidth</th>\n",
              "      <th>sizze</th>\n",
              "    </tr>\n",
              "    <tr>\n",
              "      <th>size</th>\n",
              "      <th></th>\n",
              "      <th></th>\n",
              "      <th></th>\n",
              "      <th></th>\n",
              "      <th></th>\n",
              "    </tr>\n",
              "  </thead>\n",
              "  <tbody>\n",
              "    <tr>\n",
              "      <th>224.0</th>\n",
              "      <td>20.0</td>\n",
              "      <td>0.003931</td>\n",
              "      <td>0.000197</td>\n",
              "      <td>1518932.8</td>\n",
              "      <td>224.0</td>\n",
              "    </tr>\n",
              "    <tr>\n",
              "      <th>424.0</th>\n",
              "      <td>20.0</td>\n",
              "      <td>0.006892</td>\n",
              "      <td>0.000345</td>\n",
              "      <td>1419370.0</td>\n",
              "      <td>424.0</td>\n",
              "    </tr>\n",
              "    <tr>\n",
              "      <th>2024.0</th>\n",
              "      <td>20.0</td>\n",
              "      <td>0.007889</td>\n",
              "      <td>0.000394</td>\n",
              "      <td>5176188.0</td>\n",
              "      <td>2024.0</td>\n",
              "    </tr>\n",
              "    <tr>\n",
              "      <th>4024.0</th>\n",
              "      <td>20.0</td>\n",
              "      <td>0.002263</td>\n",
              "      <td>0.000113</td>\n",
              "      <td>36221640.0</td>\n",
              "      <td>4024.0</td>\n",
              "    </tr>\n",
              "    <tr>\n",
              "      <th>20024.0</th>\n",
              "      <td>20.0</td>\n",
              "      <td>0.004370</td>\n",
              "      <td>0.000219</td>\n",
              "      <td>91788600.0</td>\n",
              "      <td>20024.0</td>\n",
              "    </tr>\n",
              "    <tr>\n",
              "      <th>40024.0</th>\n",
              "      <td>20.0</td>\n",
              "      <td>0.003729</td>\n",
              "      <td>0.000186</td>\n",
              "      <td>234312400.0</td>\n",
              "      <td>40024.0</td>\n",
              "    </tr>\n",
              "    <tr>\n",
              "      <th>200024.0</th>\n",
              "      <td>20.0</td>\n",
              "      <td>0.011854</td>\n",
              "      <td>0.000593</td>\n",
              "      <td>343475600.0</td>\n",
              "      <td>200024.0</td>\n",
              "    </tr>\n",
              "    <tr>\n",
              "      <th>400024.0</th>\n",
              "      <td>20.0</td>\n",
              "      <td>0.028142</td>\n",
              "      <td>0.001407</td>\n",
              "      <td>284908400.0</td>\n",
              "      <td>400024.0</td>\n",
              "    </tr>\n",
              "    <tr>\n",
              "      <th>2000024.0</th>\n",
              "      <td>20.0</td>\n",
              "      <td>0.086709</td>\n",
              "      <td>0.004335</td>\n",
              "      <td>462327800.0</td>\n",
              "      <td>2000024.0</td>\n",
              "    </tr>\n",
              "    <tr>\n",
              "      <th>4000024.0</th>\n",
              "      <td>20.0</td>\n",
              "      <td>0.204608</td>\n",
              "      <td>0.010230</td>\n",
              "      <td>391187800.0</td>\n",
              "      <td>4000024.0</td>\n",
              "    </tr>\n",
              "    <tr>\n",
              "      <th>20000024.0</th>\n",
              "      <td>20.0</td>\n",
              "      <td>1.017679</td>\n",
              "      <td>0.050884</td>\n",
              "      <td>393325400.0</td>\n",
              "      <td>20000024.0</td>\n",
              "    </tr>\n",
              "    <tr>\n",
              "      <th>40000024.0</th>\n",
              "      <td>20.0</td>\n",
              "      <td>2.091280</td>\n",
              "      <td>0.104564</td>\n",
              "      <td>382827400.0</td>\n",
              "      <td>40000024.0</td>\n",
              "    </tr>\n",
              "    <tr>\n",
              "      <th>200000024.0</th>\n",
              "      <td>20.0</td>\n",
              "      <td>11.330340</td>\n",
              "      <td>0.566516</td>\n",
              "      <td>353367800.0</td>\n",
              "      <td>200000024.0</td>\n",
              "    </tr>\n",
              "  </tbody>\n",
              "</table>\n",
              "</div>"
            ],
            "text/plain": [
              "             iterations  Total_time  Time_per_mess    Bandwidth        sizze\n",
              "size                                                                        \n",
              "224.0              20.0    0.003931       0.000197    1518932.8        224.0\n",
              "424.0              20.0    0.006892       0.000345    1419370.0        424.0\n",
              "2024.0             20.0    0.007889       0.000394    5176188.0       2024.0\n",
              "4024.0             20.0    0.002263       0.000113   36221640.0       4024.0\n",
              "20024.0            20.0    0.004370       0.000219   91788600.0      20024.0\n",
              "40024.0            20.0    0.003729       0.000186  234312400.0      40024.0\n",
              "200024.0           20.0    0.011854       0.000593  343475600.0     200024.0\n",
              "400024.0           20.0    0.028142       0.001407  284908400.0     400024.0\n",
              "2000024.0          20.0    0.086709       0.004335  462327800.0    2000024.0\n",
              "4000024.0          20.0    0.204608       0.010230  391187800.0    4000024.0\n",
              "20000024.0         20.0    1.017679       0.050884  393325400.0   20000024.0\n",
              "40000024.0         20.0    2.091280       0.104564  382827400.0   40000024.0\n",
              "200000024.0        20.0   11.330340       0.566516  353367800.0  200000024.0"
            ]
          },
          "metadata": {
            "tags": []
          },
          "execution_count": 135
        }
      ]
    },
    {
      "cell_type": "code",
      "metadata": {
        "colab": {
          "base_uri": "https://localhost:8080/",
          "height": 313
        },
        "id": "rgSI3woYJu-I",
        "outputId": "0a1d1546-6306-4c8b-c717-38fea6233bae"
      },
      "source": [
        "import matplotlib.pyplot as plt\n",
        "\n",
        "plt.figure(dpi = 80)\n",
        "plt.scatter(np.array(dat_grouped.index), np.array(dat_grouped['Total_time']), color = 'DarkBlue')\n",
        "plt.xlabel('size')\n",
        "plt.ylabel('Total_time')\n",
        "plt.xscale(\"log\")\n",
        "plt.yscale(\"log\")"
      ],
      "execution_count": 136,
      "outputs": [
        {
          "output_type": "display_data",
          "data": {
            "image/png": "[encoded data removed]",
            "text/plain": [
              "<Figure size 480x320 with 1 Axes>"
            ]
          },
          "metadata": {
            "tags": [],
            "needs_background": "light"
          }
        }
      ]
    },
    {
      "cell_type": "markdown",
      "metadata": {
        "id": "n8nQ3ixcFL2V"
      },
      "source": [
        "## Task 2\n",
        "\n",
        "Cellular Automata 1-d:\n",
        "\n",
        "1) First: you initialize the one-dimensional array with ones and zeros (either randomly or not)\n",
        "\n",
        "2) Second: you update the values in a cell according to the cell's current value and the left and right neighbors' current values.\n",
        "\n",
        "So, the next state of the cell depends on the current state of 3 cells only.\n",
        "\n",
        "Implement both periodic and constant boundary conditions (2 points)\n",
        "\n",
        "Value updates can be parallelized if you divide the computational domain into chunks and allocate them to different processes (5 points)\n",
        "\n",
        "Use ghost cells to send and receive values at interfaces between the two processes (2 points)\n",
        "\n",
        "Design a program in such a way that any kind of rule can be easily inputted into the computations (5 points)\n",
        "\n",
        "Make a graph that shows the speedup (2 points)\n",
        "\n",
        "Draw the pictures of 3 interesting rule outputs (3 points)"
      ]
    },
    {
      "cell_type": "markdown",
      "metadata": {
        "id": "aBQ6Z4qOQ2g3"
      },
      "source": [
        "![image.png](data:image/png;base64,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)"
      ]
    },
    {
      "cell_type": "markdown",
      "metadata": {
        "id": "rrqc9DaqXVG_"
      },
      "source": [
        "### Boundaryconditions? \n",
        "\n",
        "Implement both periodic and constant boundary conditions."
      ]
    },
    {
      "cell_type": "code",
      "metadata": {
        "id": "9BhNExfOFRqe",
        "colab": {
          "base_uri": "https://localhost:8080/"
        },
        "outputId": "80eef4e8-79c5-4943-b9e8-374fc65dc500"
      },
      "source": [
        "%%writefile Cellular_Automata.cpp\n",
        "\n",
        "\n",
        "#include <mpi.h>\n",
        "#include \"mpi.h\"\n",
        "#include <stdio.h>\n",
        "#include <stdlib.h>\n",
        "#include <vector>\n",
        "#include <iostream>\n",
        "#include <cmath>\n",
        "#include <string>\n",
        "#include <fstream>\n",
        "using namespace std;\n",
        "\n",
        "void printing(vector<int> &vec) {\n",
        "    \n",
        "    for (int i = 0; i < vec.size(); i++) {\n",
        "            printf(\"%d \", vec[i]);\n",
        "    }\n",
        "    printf(\"\\n\");\n",
        "}\n",
        "\n",
        "void periodic_cond(vector<int> &array){\n",
        "    vector<int> new_array = array;\n",
        "\n",
        "    if ( (array[array.size()-1] == 0 and array[0] == 1 and  array[1] == 0)  or (array[array.size()-1] == 1 and array[0] == 0 and  array[1] == 1) or\\\n",
        "         (array[array.size()-1] == 0 and array[0] == 0 and  array[1] == 0)  or (array[array.size()-1] == 1 and array[0] == 1 and  array[1] == 1)) {\n",
        "        new_array[0] = 0;\n",
        "    } else {\n",
        "        new_array[0] = 1;\n",
        "    }\n",
        "    \n",
        "    for (int i = 1; i < array.size(); i++) {\n",
        "        if ((array[i-1] == 0 and array[i] == 1 and  array[i+1] == 0)  | (array[i-1] == 1 and array[i] == 0 and  array[i+1] == 1) | \\\n",
        "            (array[i-1] == 0 and array[i] == 0 and  array[i+1] == 0) |  (array[i-1] == 1 and array[i] == 1 and  array[i+1] == 1)){\n",
        "          new_array[i] = 0;\n",
        "        } else {\n",
        "           new_array[i] = 1;\n",
        "        }\n",
        "    }\n",
        "   \n",
        "   if ((array[array.size()-2] == 0 and array[array.size()-1] == 1 and  array[0] == 0)  | (array[array.size()-2] == 1 and array[array.size()-1] == 0 and  array[0] == 1) |\\\n",
        "       (array[array.size()-2] == 0 and array[array.size()-1] == 0 and  array[0] == 0)  | (array[array.size()-2] == 1 and array[array.size()-1] == 1 and  array[0] == 1)) {\n",
        "        new_array[array.size()-1] = 0;\n",
        "    } else {\n",
        "        new_array[array.size()-1] = 1;\n",
        "    }\n",
        "    array = new_array;\n",
        "    //printing(new_array);\n",
        "    \n",
        "}\n",
        "\n",
        "void const_cond(vector<int> &array) {\n",
        "    vector<int> new_array = array;\n",
        "    for (int i = 1; i < array.size()-1; i++) {\n",
        "        if ((array[i-1] == 1 and array[i+1] == 1) or (array[i-1] == 1 and array[i] == 0) or (array[i-1]==0 and array[i] == 0 and array[i+1] == 0) or (array[i-1]==0 and array[i] == 1 and array[i+1] == 0)){\n",
        "          new_array[i] = 1;\n",
        "    } else {\n",
        "        new_array[i] = 0;\n",
        "    }\n",
        "    }  \n",
        "    array = new_array;  \n",
        "}\n",
        "\n",
        "\n",
        "\n",
        "\n",
        "int main(){\n",
        "    ofstream res;          // поток для записи\n",
        "    res.open(\"./aut_1.txt\");\n",
        "   \n",
        "    vector<int> init = {1,0,1,0,1,0,1,0,1,0,1,0,1,0,1,0,1,0,1,0,1,0,1};\n",
        "    int N ;\n",
        "    printing(init);\n",
        "    N = init.size();\n",
        "\n",
        "    for (int k = 0; k < N; k++) {\n",
        "        periodic_cond(init);\n",
        "        printing(init);\n",
        "    }\n",
        "    res.close();\n",
        "    return 0;\n",
        "}"
      ],
      "execution_count": 265,
      "outputs": [
        {
          "output_type": "stream",
          "text": [
            "Overwriting Cellular_Automata.cpp\n"
          ],
          "name": "stdout"
        }
      ]
    },
    {
      "cell_type": "code",
      "metadata": {
        "id": "qE6dQep1sZl4"
      },
      "source": [
        "!mpic++ Cellular_Automata.cpp -o out1\n",
        "!mpirun --allow-run-as-root  ./out1"
      ],
      "execution_count": 266,
      "outputs": []
    },
    {
      "cell_type": "code",
      "metadata": {
        "colab": {
          "base_uri": "https://localhost:8080/"
        },
        "id": "w66p31bNWaal",
        "outputId": "e40fdd02-5de8-4a52-cb04-1ac031ae3019"
      },
      "source": [
        "!mpirun --allow-run-as-root  ./out1"
      ],
      "execution_count": 267,
      "outputs": [
        {
          "output_type": "stream",
          "text": [
            "1 0 1 0 1 0 1 0 1 0 1 0 1 0 1 0 1 0 1 0 1 0 1 \n",
            "1 0 0 0 0 0 0 0 0 0 0 0 0 0 0 0 0 0 0 0 0 0 1 \n",
            "1 1 0 0 0 0 0 0 0 0 0 0 0 0 0 0 0 0 0 0 0 1 1 \n",
            "0 1 1 0 0 0 0 0 0 0 0 0 0 0 0 0 0 0 0 0 1 1 0 \n",
            "1 1 1 1 0 0 0 0 0 0 0 0 0 0 0 0 0 0 0 1 1 1 1 \n",
            "0 0 0 1 1 0 0 0 0 0 0 0 0 0 0 0 0 0 1 1 0 0 0 \n",
            "0 0 1 1 1 1 0 0 0 0 0 0 0 0 0 0 0 1 1 1 1 0 0 \n",
            "0 1 1 0 0 1 1 0 0 0 0 0 0 0 0 0 1 1 0 0 1 1 0 \n",
            "1 1 1 1 1 1 1 1 0 0 0 0 0 0 0 1 1 1 1 1 1 1 1 \n",
            "0 0 0 0 0 0 0 1 1 0 0 0 0 0 1 1 0 0 0 0 0 0 0 \n",
            "0 0 0 0 0 0 1 1 1 1 0 0 0 1 1 1 1 0 0 0 0 0 0 \n",
            "0 0 0 0 0 1 1 0 0 1 1 0 1 1 0 0 1 1 0 0 0 0 0 \n",
            "0 0 0 0 1 1 1 1 1 1 1 0 1 1 1 1 1 1 1 0 0 0 0 \n",
            "0 0 0 1 1 0 0 0 0 0 1 0 1 0 0 0 0 0 1 1 0 0 0 \n",
            "0 0 1 1 1 1 0 0 0 1 0 0 0 1 0 0 0 1 1 1 1 0 0 \n",
            "0 1 1 0 0 1 1 0 1 0 1 0 1 0 1 0 1 1 0 0 1 1 0 \n",
            "1 1 1 1 1 1 1 0 0 0 0 0 0 0 0 0 1 1 1 1 1 1 1 \n",
            "0 0 0 0 0 0 1 1 0 0 0 0 0 0 0 1 1 0 0 0 0 0 0 \n",
            "0 0 0 0 0 1 1 1 1 0 0 0 0 0 1 1 1 1 0 0 0 0 0 \n",
            "0 0 0 0 1 1 0 0 1 1 0 0 0 1 1 0 0 1 1 0 0 0 0 \n",
            "0 0 0 1 1 1 1 1 1 1 1 0 1 1 1 1 1 1 1 1 0 0 0 \n",
            "0 0 1 1 0 0 0 0 0 0 1 0 1 0 0 0 0 0 0 1 1 0 0 \n",
            "0 1 1 1 1 0 0 0 0 1 0 0 0 1 0 0 0 0 1 1 1 1 0 \n",
            "1 1 0 0 1 1 0 0 1 0 1 0 1 0 1 0 0 1 1 0 0 1 1 \n"
          ],
          "name": "stdout"
        }
      ]
    },
    {
      "cell_type": "markdown",
      "metadata": {
        "id": "jvruIhmSoF83"
      },
      "source": [
        "### 1 interesting rule outputs"
      ]
    },
    {
      "cell_type": "markdown",
      "metadata": {
        "id": "cPO7eo0Uq2Yu"
      },
      "source": [
        "### Value updates can be parallelized if you divide the computational domain into chunks and allocate them to different processes (5 points)\n",
        "\n",
        "### Use ghost cells to send and receive values at interfaces between the two processes (2 points)"
      ]
    },
    {
      "cell_type": "code",
      "metadata": {
        "colab": {
          "base_uri": "https://localhost:8080/"
        },
        "id": "i-0DDEY5h9_3",
        "outputId": "1a751191-374a-4bae-d76d-33b56f73f09a"
      },
      "source": [
        "%%writefile Cellular_Automata_parallel.cpp\n",
        "\n",
        "\n",
        "#include <mpi.h>\n",
        "#include \"mpi.h\"\n",
        "#include <stdio.h>\n",
        "#include <stdlib.h>\n",
        "#include <time.h>\n",
        "#include <unistd.h>\n",
        "#include <vector>\n",
        "#include<algorithm>\n",
        "#include <cstdlib> \n",
        "#include <fstream>\n",
        "\n",
        "using namespace std;\n",
        "\n",
        "void printing(int *vec, int N) {\n",
        "    \n",
        "    for (int i = 0; i < N; i++) {\n",
        "            printf(\"%d \", vec[i]);\n",
        "    }\n",
        "    printf(\"\\n\");\n",
        "}\n",
        "\n",
        "void initialization (vector<int>& init, int N) {\n",
        "    init.resize(N);\n",
        "    for (int i = 0; i < N; i++) {\n",
        "        if (i < N / 2) {\n",
        "            init[i] = 0;\n",
        "        } else {\n",
        "           init[i] = 1;\n",
        "        }\n",
        "    }\n",
        "}\n",
        "\n",
        "\n",
        "void periodic_cond(vector<int> &array){\n",
        "    vector<int> new_array = array;\n",
        "\n",
        "    for (int i = 1; i < array.size(); i++) {\n",
        "        if ((array[i-1] == 0 and array[i] == 1 and  array[i+1] == 0)  | (array[i-1] == 1 and array[i] == 0 and  array[i+1] == 1) | \\\n",
        "            (array[i-1] == 0 and array[i] == 0 and  array[i+1] == 0) |  (array[i-1] == 1 and array[i] == 1 and  array[i+1] == 1)){\n",
        "          new_array[i] = 0;\n",
        "        } else {\n",
        "           new_array[i] = 1;\n",
        "        }\n",
        "    }\n",
        "   \n",
        "\n",
        "    array = new_array;\n",
        "    array.pop_back();\n",
        "    array.erase(array.begin());\n",
        "   \n",
        "    //printing(new_array);\n",
        "    \n",
        "}\n",
        "\n",
        "\n",
        "\n",
        "int main(int argc, char ** argv) {\n",
        "    int world_size;\n",
        "    int world_rank;\n",
        "    ofstream res;          // поток для записи\n",
        "    res.open(\"./aut_2.txt\");\n",
        "    \n",
        "    MPI_Status status;\n",
        "\n",
        "    \n",
        "    MPI_Init(&argc, &argv);\n",
        "    MPI_Comm_rank(MPI_COMM_WORLD, &world_rank);\n",
        "    MPI_Comm_size(MPI_COMM_WORLD, &world_size);\n",
        " \n",
        "\n",
        "    int iterations = 24;\n",
        "    int N = 24;\n",
        "    int n_prank = N/world_size;\n",
        "\n",
        "    vector<int> init;\n",
        "    initialization (init, n_prank);\n",
        "     \n",
        "    \n",
        "    for (int i = 0; i < iterations; i++) {    \n",
        "           \n",
        "\n",
        "\t    init.insert(init.cbegin(),1);\n",
        "      init.push_back(1);\n",
        "\n",
        "      if (world_rank == 0) {\n",
        "          MPI_Send(&init[1],             1, MPI_INT, world_size - 1, 5, MPI_COMM_WORLD);\n",
        "\t\t      MPI_Recv(&init[init.size()-1], 1, MPI_INT, 1,              5, MPI_COMM_WORLD, &status);\n",
        "\t    } else if (world_rank == world_size - 1) {\n",
        "          MPI_Send(&init[1],             1, MPI_INT, world_rank-1, 5, MPI_COMM_WORLD);\n",
        "\t\t      MPI_Recv(&init[init.size()-1], 1, MPI_INT, 0,            5, MPI_COMM_WORLD, &status);\n",
        "\t    } else {\n",
        "          MPI_Send(&init[1],             1, MPI_INT, world_rank - 1, 5, MPI_COMM_WORLD);\n",
        "\t\t      MPI_Recv(&init[init.size()-1], 1, MPI_INT, world_rank + 1, 5, MPI_COMM_WORLD, &status);\n",
        "\t    }\n",
        "\t    \n",
        "\n",
        "\t    if (world_rank == 0) {\n",
        "          MPI_Send(&init[init.size()-2], 1, MPI_INT, world_rank + 1, 3, MPI_COMM_WORLD);\n",
        "\t\t      MPI_Recv(&init[0],             1, MPI_INT, world_size - 1, 3, MPI_COMM_WORLD, &status);\n",
        "\t    } else if (world_rank == world_size - 1) {\n",
        "          MPI_Send(&init[init.size()-2], 1, MPI_INT, 0,              3, MPI_COMM_WORLD);\n",
        "\t\t      MPI_Recv(&init[0],             1, MPI_INT, world_rank - 1, 3, MPI_COMM_WORLD, &status);\n",
        "\t    } else {\n",
        "          MPI_Send(&init[init.size()-2], 1, MPI_INT, world_rank + 1, 3, MPI_COMM_WORLD);\n",
        "\t\t      MPI_Recv(&init[0],             1, MPI_INT, world_rank - 1, 3, MPI_COMM_WORLD, &status);\n",
        "\t    }\n",
        "\t    \n",
        "\n",
        "\n",
        "\t       \n",
        "\t    periodic_cond(init);\n",
        "\t    \n",
        "\t    \n",
        "\t    int * all_answer;\n",
        "\t    \n",
        "\t    if (world_rank == 0) {\n",
        "          all_answer = (int *) malloc(n_prank * world_size * sizeof(int)); \n",
        "\t    }\n",
        "\n",
        "\t    int *new_init;\n",
        "\t    new_init = (int *) malloc(n_prank * sizeof(int));  \n",
        "\t    for (int i = 0; i < n_prank; i++) {\n",
        "          new_init[i] = init[i];\n",
        "\t    }\n",
        "\t    \n",
        "\t    MPI_Gather(&init[0],n_prank, MPI_INT, all_answer, n_prank, MPI_INT, 0, MPI_COMM_WORLD);\n",
        "\t\t       \n",
        "\t    if (world_rank == 0) {\n",
        "          printing(all_answer, n_prank * world_size);\n",
        "      }\n",
        "    }\n",
        "    \n",
        "    \n",
        "    MPI_Finalize();\n",
        "    res.close();\n",
        "    return 0;\n",
        "\n",
        "}\n"
      ],
      "execution_count": 644,
      "outputs": [
        {
          "output_type": "stream",
          "text": [
            "Overwriting Cellular_Automata_parallel.cpp\n"
          ],
          "name": "stdout"
        }
      ]
    },
    {
      "cell_type": "code",
      "metadata": {
        "id": "d_Gpd3yNiFR3"
      },
      "source": [
        "!mpic++ Cellular_Automata_parallel.cpp -o out3\n"
      ],
      "execution_count": 645,
      "outputs": []
    },
    {
      "cell_type": "code",
      "metadata": {
        "id": "MMc5HFCrih4O"
      },
      "source": [
        "!mpirun --allow-run-as-root -n 4 ./out3"
      ],
      "execution_count": null,
      "outputs": []
    },
    {
      "cell_type": "code",
      "metadata": {
        "id": "EW7ztACE900t"
      },
      "source": [
        "import numpy as np\n",
        "import pandas as pd\n",
        "\n",
        "with open(\"./aut_2.txt\") as file:\n",
        "    df = pd.DataFrame(np.genfromtxt(file, delimiter=None\n",
        "                                  )\n",
        "                    )\n",
        "\n",
        "from scipy import ndimage\n",
        "picture = 1 - np.array(df)\n",
        "rotated_img = ndimage.rotate(picture, 90)\n",
        "rotated_img = ndimage.rotate(rotated_img, 90)\n",
        "plt.imshow(rotated_img)\n",
        "#plt.imshow(picture)\n",
        "plt.axis('off')"
      ],
      "execution_count": null,
      "outputs": []
    },
    {
      "cell_type": "markdown",
      "metadata": {
        "id": "jAkqF05OXiwc"
      },
      "source": [
        "### Design a program in such a way that any kind of rule can be easily inputted into the computations (5 points)"
      ]
    },
    {
      "cell_type": "code",
      "metadata": {
        "colab": {
          "base_uri": "https://localhost:8080/"
        },
        "id": "eXI3G4_Wq0xC",
        "outputId": "cfbec194-9a63-4c28-a6ca-15404f64b3e4"
      },
      "source": [
        "%%writefile Cellular_Automata_any_rules.cpp\n",
        "\n",
        "\n",
        "#include <mpi.h>\n",
        "#include \"mpi.h\"\n",
        "#include <stdio.h>\n",
        "#include <stdlib.h>\n",
        "#include <vector>\n",
        "#include <iostream>\n",
        "#include <cmath>\n",
        "#include <string>\n",
        "#include <fstream>\n",
        "#include <time.h>\n",
        "#include <unistd.h>\n",
        "#include<algorithm>\n",
        "\n",
        "using namespace std;\n",
        "\n",
        "\n",
        "\n",
        "// const_cond rule\n",
        "void periodic_cond(vector<int> &array, vector<int> &rule){\n",
        "    vector<int> new_array = array;\n",
        "    for (int i = 1; i < array.size()-1; i++) {\n",
        "        if (array[i - 1] == 1 and array[i] == 1 and array[i + 1] == 1) {\n",
        "                new_array[i] = rule[0];\n",
        "        }\n",
        "        else if (array[i - 1] == 1 and array[i] == 1 and array[i + 1] == 0) {\n",
        "                new_array[i] = rule[1];\n",
        "        }\n",
        "        else if (array[i - 1] == 1 and array[i] == 0 and array[i + 1] == 1) {\n",
        "                new_array[i] = rule[2];\n",
        "        }\n",
        "        else if (array[i - 1] == 1 and array[i] == 0 and array[i + 1] == 0) {\n",
        "                new_array[i] = rule[3];\n",
        "        }\n",
        "        else if (array[i - 1] == 0 and array[i] == 1 and array[i + 1] == 1) {\n",
        "                new_array[i] = rule[4];\n",
        "        }\n",
        "        else if (array[i - 1] == 0 and array[i] == 1 and array[i + 1] == 0) {\n",
        "                new_array[i] = rule[5];\n",
        "        }\n",
        "        else if (array[i - 1] == 0 and array[i] == 0 and array[i + 1] == 1) {\n",
        "                new_array[i] = rule[6];\n",
        "        }\n",
        "        else if (array[i - 1] == 0 and array[i] == 0 and array[i + 1] == 0) {\n",
        "                new_array[i] = rule[7];\n",
        "        }\n",
        "    }\n",
        "    array = new_array;\n",
        "    array.pop_back();\n",
        "    array.erase(array.begin());\n",
        "   \n",
        "    \n",
        "}\n",
        "\n",
        "\n",
        "\n",
        "void printing(int *vec, int N) {\n",
        "    \n",
        "    for (int i = 0; i < N; i++) {\n",
        "            printf(\"%d \", vec[i]);\n",
        "    }\n",
        "    printf(\"\\n\");\n",
        "}\n",
        "\n",
        "void initialization (vector<int>& init, int N) {\n",
        "    init.resize(N);\n",
        "    for (int i = 0; i < N; i++) {\n",
        "        if (i < N/2 ) {\n",
        "            init[i] = 0;\n",
        "        } else {\n",
        "           init[i] = 1;\n",
        "        }\n",
        "    }\n",
        "}\n",
        "\n",
        "\n",
        "\n",
        "\n",
        "\n",
        "int main(int argc, char ** argv) {\n",
        "    int world_size;\n",
        "    int world_rank;\n",
        "    ofstream res;          // поток для записи\n",
        "    res.open(\"./aut_5.txt\");\n",
        "    \n",
        "    MPI_Status status;\n",
        "\n",
        "    \n",
        "    MPI_Init(&argc, &argv);\n",
        "    MPI_Comm_rank(MPI_COMM_WORLD, &world_rank);\n",
        "    MPI_Comm_size(MPI_COMM_WORLD, &world_size);\n",
        " \n",
        "\n",
        "    int iterations = 24;\n",
        "    int N = 24;\n",
        "    int n_prank = N/world_size;\n",
        "\n",
        "    vector<int> init;\n",
        "   \n",
        "    initialization (init, n_prank);\n",
        "    string sLine = \"\";\n",
        "    ifstream read;\n",
        "\n",
        "    read.open(\"./ca.txt\");\n",
        "\n",
        "    int line_no = 0;\n",
        "    char strr[16];\n",
        "    char s[8];\n",
        "\n",
        "    int r = 19;\n",
        "\n",
        "    for (int i = 0; i < 256; i++ ) {\n",
        "         read.getline(strr, 16);\n",
        "         if (i == r){\n",
        "            for (int l = 0; l < 16; l++) {\n",
        "                \n",
        "                s[l] = strr[l]; \n",
        "                \n",
        "                \n",
        "            }\n",
        "           \n",
        "         }\n",
        "         \n",
        "    }\n",
        "    vector<int> rule(8);\n",
        "    read.close();\n",
        "    int k = 0;\n",
        "    for (int l = 0; l < 16; l++) {\n",
        "          if (l % 2 == 0) {\n",
        "          rule[k] = (int)s[l] - 48;\n",
        "          //cout << l << ' ' << vec[k] << endl; \n",
        "          k += 1;\n",
        "          }\n",
        "         \n",
        "    }\n",
        "\n",
        "    \n",
        "    for (int i = 0; i < iterations; i++) {    \n",
        "           \n",
        "\n",
        "\t    init.insert(init.cbegin(),1);\n",
        "      init.push_back(1);\n",
        "\n",
        "      if (world_rank == 0) {\n",
        "          MPI_Send(&init[1],             1, MPI_INT, world_size - 1, 5, MPI_COMM_WORLD);\n",
        "\t\t      MPI_Recv(&init[init.size()-1], 1, MPI_INT, world_rank + 1, 5, MPI_COMM_WORLD, &status);\n",
        "\t    } else if (world_rank == world_size - 1) {\n",
        "          MPI_Send(&init[1],             1, MPI_INT, world_rank-1, 5, MPI_COMM_WORLD);\n",
        "\t\t      MPI_Recv(&init[init.size()-1], 1, MPI_INT, 0,            5, MPI_COMM_WORLD, &status);\n",
        "\t    } else {\n",
        "          MPI_Send(&init[1],             1, MPI_INT, world_rank - 1, 5, MPI_COMM_WORLD);\n",
        "\t\t      MPI_Recv(&init[init.size()-1], 1, MPI_INT, world_rank + 1, 5, MPI_COMM_WORLD, &status);\n",
        "\t    }\n",
        "\t    \n",
        "\n",
        "\t    if (world_rank == 0) {\n",
        "          MPI_Send(&init[init.size()-2], 1, MPI_INT, world_rank + 1, 3, MPI_COMM_WORLD);\n",
        "\t\t      MPI_Recv(&init[0],             1, MPI_INT, world_size - 1, 3, MPI_COMM_WORLD, &status);\n",
        "\t    } else if (world_rank == world_size - 1) {\n",
        "          MPI_Send(&init[init.size()-2], 1, MPI_INT, 0,              3, MPI_COMM_WORLD);\n",
        "\t\t      MPI_Recv(&init[0],             1, MPI_INT, world_rank - 1, 3, MPI_COMM_WORLD, &status);\n",
        "\t    } else {\n",
        "          MPI_Send(&init[init.size()-2], 1, MPI_INT, world_rank + 1, 3, MPI_COMM_WORLD);\n",
        "\t\t      MPI_Recv(&init[0],             1, MPI_INT, world_rank - 1, 3, MPI_COMM_WORLD, &status);\n",
        "\t    }\n",
        "\t    \n",
        "\n",
        "\n",
        "\t       \n",
        "\t    //periodic_cond(init);\n",
        "\t    periodic_cond(init, rule);\n",
        "\t    \n",
        "\t    int * all_answer;\n",
        "\t    \n",
        "\t    if (world_rank == 0) {\n",
        "          all_answer = (int *) malloc(n_prank * world_size * sizeof(int)); \n",
        "\t    }\n",
        "\n",
        "\t    int *new_init;\n",
        "\t    new_init = (int *) malloc(n_prank * sizeof(int));  \n",
        "\t    for (int i = 0; i < n_prank; i++) {\n",
        "          new_init[i] = init[i];\n",
        "\t    }\n",
        "\t    \n",
        "\t    MPI_Gather(&init[0],n_prank, MPI_INT, all_answer, n_prank, MPI_INT, 0, MPI_COMM_WORLD);\n",
        "\t\t       \n",
        "\t    if (world_rank == 0) {\n",
        "          printing(all_answer, n_prank * world_size);\n",
        "      }\n",
        "    }\n",
        "    \n",
        "    \n",
        "    MPI_Finalize();\n",
        "    res.close();\n",
        "    return 0;\n",
        "\n",
        "}"
      ],
      "execution_count": 683,
      "outputs": [
        {
          "output_type": "stream",
          "text": [
            "Overwriting Cellular_Automata_any_rules.cpp\n"
          ],
          "name": "stdout"
        }
      ]
    },
    {
      "cell_type": "code",
      "metadata": {
        "id": "1PMH33gWt7GY"
      },
      "source": [
        "!mpic++ Cellular_Automata_any_rules.cpp -o out4\n"
      ],
      "execution_count": 684,
      "outputs": []
    },
    {
      "cell_type": "code",
      "metadata": {
        "id": "XV_I7Ywo1kf_"
      },
      "source": [
        "!mpirun --allow-run-as-root -n 8 ./out4"
      ],
      "execution_count": null,
      "outputs": []
    },
    {
      "cell_type": "markdown",
      "metadata": {
        "id": "WXOQ3_8U8Mvs"
      },
      "source": [
        "### Draw the pictures of 3 interesting rule outputs (3 points)"
      ]
    },
    {
      "cell_type": "code",
      "metadata": {
        "colab": {
          "base_uri": "https://localhost:8080/",
          "height": 265
        },
        "id": "FOVFAyKr5Cdg",
        "outputId": "6d26a9ef-153c-42ee-a7f3-e573e3f19297"
      },
      "source": [
        "import numpy as np\n",
        "import pandas as pd\n",
        "\n",
        "with open(\"./aut_3.txt\") as file:\n",
        "    df = pd.DataFrame(np.genfromtxt(file, delimiter=None\n",
        "                                  )\n",
        "                    )\n",
        "\n",
        "from scipy import ndimage\n",
        "picture = 1 - np.array(df)\n",
        "rotated_img = ndimage.rotate(picture, 90)\n",
        "rotated_img = ndimage.rotate(rotated_img, 90)\n",
        "plt.imshow(rotated_img)\n",
        "#plt.imshow(picture)\n",
        "plt.axis('off')"
      ],
      "execution_count": 616,
      "outputs": [
        {
          "output_type": "execute_result",
          "data": {
            "text/plain": [
              "(-0.5, 23.5, 23.5, -0.5)"
            ]
          },
          "metadata": {
            "tags": []
          },
          "execution_count": 616
        },
        {
          "output_type": "display_data",
          "data": {
            "image/png": "[encoded data removed]",
            "text/plain": [
              "<Figure size 432x288 with 1 Axes>"
            ]
          },
          "metadata": {
            "tags": [],
            "needs_background": "light"
          }
        }
      ]
    },
    {
      "cell_type": "code",
      "metadata": {
        "colab": {
          "base_uri": "https://localhost:8080/",
          "height": 265
        },
        "id": "I7t88f9z5pP4",
        "outputId": "761caec6-8037-432b-9eb7-ec3275265fae"
      },
      "source": [
        "import numpy as np\n",
        "import pandas as pd\n",
        "\n",
        "with open(\"./aut_5.txt\") as file:\n",
        "    df = pd.DataFrame(np.genfromtxt(file, delimiter=None\n",
        "                                  )\n",
        "                    )\n",
        "\n",
        "from scipy import ndimage\n",
        "picture = 1 - np.array(df)\n",
        "rotated_img = ndimage.rotate(picture, 90)\n",
        "rotated_img = ndimage.rotate(rotated_img, 90)\n",
        "plt.imshow(rotated_img)\n",
        "#plt.imshow(picture)\n",
        "plt.axis('off')"
      ],
      "execution_count": 670,
      "outputs": [
        {
          "output_type": "execute_result",
          "data": {
            "text/plain": [
              "(-0.5, 23.5, 23.5, -0.5)"
            ]
          },
          "metadata": {
            "tags": []
          },
          "execution_count": 670
        },
        {
          "output_type": "display_data",
          "data": {
            "image/png": "[encoded data removed]",
            "text/plain": [
              "<Figure size 432x288 with 1 Axes>"
            ]
          },
          "metadata": {
            "tags": [],
            "needs_background": "light"
          }
        }
      ]
    },
    {
      "cell_type": "code",
      "metadata": {
        "colab": {
          "base_uri": "https://localhost:8080/",
          "height": 265
        },
        "id": "7GjDmyVh5Yfn",
        "outputId": "e6f9b7e2-7a1e-4ace-f764-8cd159ee157f"
      },
      "source": [
        "import numpy as np\n",
        "import pandas as pd\n",
        "\n",
        "with open(\"./aut_4.txt\") as file:\n",
        "    df = pd.DataFrame(np.genfromtxt(file, delimiter=None\n",
        "                                  )\n",
        "                    )\n",
        "\n",
        "from scipy import ndimage\n",
        "picture = 1 - np.array(df)\n",
        "rotated_img = ndimage.rotate(picture, 90)\n",
        "rotated_img = ndimage.rotate(rotated_img, 90)\n",
        "plt.imshow(rotated_img)\n",
        "#plt.imshow(picture)\n",
        "plt.axis('off')"
      ],
      "execution_count": 620,
      "outputs": [
        {
          "output_type": "execute_result",
          "data": {
            "text/plain": [
              "(-0.5, 23.5, 23.5, -0.5)"
            ]
          },
          "metadata": {
            "tags": []
          },
          "execution_count": 620
        },
        {
          "output_type": "display_data",
          "data": {
            "image/png": "[encoded data removed]",
            "text/plain": [
              "<Figure size 432x288 with 1 Axes>"
            ]
          },
          "metadata": {
            "tags": [],
            "needs_background": "light"
          }
        }
      ]
    },
    {
      "cell_type": "markdown",
      "metadata": {
        "id": "d_elyUQ-8Hd2"
      },
      "source": [
        "## The most beautiful one"
      ]
    },
    {
      "cell_type": "code",
      "metadata": {
        "colab": {
          "base_uri": "https://localhost:8080/",
          "height": 265
        },
        "id": "m3yO43njm8ro",
        "outputId": "df41a8b1-ab01-4c60-c622-4644a4e35aa1"
      },
      "source": [
        "import numpy as np\n",
        "import pandas as pd\n",
        "\n",
        "with open(\"./aut_1.txt\") as file:\n",
        "    df = pd.DataFrame(np.genfromtxt(file, delimiter=None\n",
        "                                  )\n",
        "                    )\n",
        "\n",
        "from scipy import ndimage\n",
        "picture = 1 - np.array(df)\n",
        "rotated_img = ndimage.rotate(picture, 90)\n",
        "rotated_img = ndimage.rotate(rotated_img, 90)\n",
        "plt.imshow(rotated_img)\n",
        "#plt.imshow(picture)\n",
        "plt.axis('off')"
      ],
      "execution_count": 275,
      "outputs": [
        {
          "output_type": "execute_result",
          "data": {
            "text/plain": [
              "(-0.5, 22.5, 23.5, -0.5)"
            ]
          },
          "metadata": {
            "tags": []
          },
          "execution_count": 275
        },
        {
          "output_type": "display_data",
          "data": {
            "image/png": "[encoded data removed]",
            "text/plain": [
              "<Figure size 432x288 with 1 Axes>"
            ]
          },
          "metadata": {
            "tags": [],
            "needs_background": "light"
          }
        }
      ]
    }
  ]
}